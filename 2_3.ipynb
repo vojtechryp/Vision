{
 "cells": [
  {
   "cell_type": "markdown",
   "metadata": {},
   "source": [
    "## Question 2.3\n",
    "\n",
    "Use the provided network layer to carry out Facial Keypoints Detection task. In this task, the model needs to input an image and output a vector containing the coordinates of each keypoint. Typically, the length of this vector is equal to the number of keypoints in the image. Follow the instructions below to complete this task. The data and the model needed for the task are in the 2_3 folder."
   ]
  },
  {
   "cell_type": "markdown",
   "metadata": {},
   "source": [
    "# Imports"
   ]
  },
  {
   "cell_type": "code",
   "execution_count": 2,
   "metadata": {},
   "outputs": [],
   "source": [
    "import torch.nn as nn\n",
    "import pandas as pd\n",
    "import numpy as np\n",
    "import torch\n",
    "from torch.utils.data import Dataset, DataLoader\n",
    "import torch.optim as optim\n",
    "import matplotlib.pyplot as plt"
   ]
  },
  {
   "cell_type": "markdown",
   "metadata": {},
   "source": [
    "# Read in the training and testing set"
   ]
  },
  {
   "cell_type": "code",
   "execution_count": 3,
   "metadata": {},
   "outputs": [
    {
     "name": "stdout",
     "output_type": "stream",
     "text": [
      "Training data shape: (100, 31)\n",
      "Testing data shape: (25, 31)\n"
     ]
    }
   ],
   "source": [
    "# Load training data\n",
    "trainset = pd.read_csv(\"train.csv\")\n",
    "\n",
    "# Load testing data\n",
    "testset = pd.read_csv(\"test.csv\")\n",
    "\n",
    "print(\"Training data shape:\", trainset.shape)\n",
    "print(\"Testing data shape:\", testset.shape)\n"
   ]
  },
  {
   "cell_type": "code",
   "execution_count": 4,
   "metadata": {},
   "outputs": [
    {
     "name": "stdout",
     "output_type": "stream",
     "text": [
      "Training dataset size: 100\n",
      "Testing dataset size: 25\n"
     ]
    }
   ],
   "source": [
    "class FacialKeypointsDataset(Dataset):\n",
    "    def __init__(self, dataframe):\n",
    "        self.dataframe = dataframe\n",
    "\n",
    "    def __len__(self):\n",
    "        return len(self.dataframe)\n",
    "\n",
    "    def __getitem__(self, idx):\n",
    "\n",
    "        # Retrieve the image data from the DataFrame at the specified index\n",
    "        image = np.fromstring(self.dataframe.iloc[idx, -1], sep=' ').astype(np.float32)\n",
    "        \n",
    "        # Reshape the flattened image data into a 2D array (96x96) and normalize pixel values to the range [0, 1]\n",
    "        image = image.reshape(96, 96) / 255.0\n",
    "        \n",
    "        # Add a channel dimension to the image array to match the expected input shape of the neural network\n",
    "        image = np.expand_dims(image, axis=0)\n",
    "        \n",
    "        # Retrieve the keypoints data (x, y coordinates) from the DataFrame at the specified index\n",
    "        keypoints = self.dataframe.iloc[idx, :-1].values.astype(np.float32)\n",
    "        \n",
    "        # Convert the image and keypoints data into PyTorch tensors and return them as a tuple\n",
    "        return torch.tensor(image), torch.tensor(keypoints)\n",
    "\n",
    "\n",
    "# Create datasets\n",
    "train_dataset = FacialKeypointsDataset(trainset)\n",
    "test_dataset = FacialKeypointsDataset(testset)\n",
    "\n",
    "print(\"Training dataset size:\", len(train_dataset))\n",
    "print(\"Testing dataset size:\", len(test_dataset))\n"
   ]
  },
  {
   "cell_type": "code",
   "execution_count": 5,
   "metadata": {},
   "outputs": [],
   "source": [
    "# Define batch size\n",
    "batch_size = 100\n",
    "\n",
    "# Create data loaders\n",
    "train_loader = DataLoader(train_dataset, batch_size=batch_size, shuffle=True)\n",
    "test_loader = DataLoader(test_dataset, batch_size=batch_size, shuffle=False)\n"
   ]
  },
  {
   "cell_type": "markdown",
   "metadata": {},
   "source": [
    "# Restrucute my previous classifier to form the Nimish Net"
   ]
  },
  {
   "cell_type": "code",
   "execution_count": 6,
   "metadata": {},
   "outputs": [
    {
     "name": "stdout",
     "output_type": "stream",
     "text": [
      "FacialKeypointDetector(\n",
      "  (conv1): Conv2d(1, 32, kernel_size=(3, 3), stride=(1, 1), padding=(1, 1))\n",
      "  (relu1): ReLU()\n",
      "  (maxpool1): MaxPool2d(kernel_size=2, stride=2, padding=0, dilation=1, ceil_mode=False)\n",
      "  (dropout1): Dropout(p=0.1, inplace=False)\n",
      "  (conv2): Conv2d(32, 64, kernel_size=(3, 3), stride=(1, 1), padding=(1, 1))\n",
      "  (relu2): ReLU()\n",
      "  (maxpool2): MaxPool2d(kernel_size=2, stride=2, padding=0, dilation=1, ceil_mode=False)\n",
      "  (dropout2): Dropout(p=0.2, inplace=False)\n",
      "  (conv3): Conv2d(64, 128, kernel_size=(3, 3), stride=(1, 1), padding=(1, 1))\n",
      "  (relu3): ReLU()\n",
      "  (maxpool3): MaxPool2d(kernel_size=2, stride=2, padding=0, dilation=1, ceil_mode=False)\n",
      "  (dropout3): Dropout(p=0.3, inplace=False)\n",
      "  (conv4): Conv2d(128, 256, kernel_size=(3, 3), stride=(1, 1), padding=(1, 1))\n",
      "  (relu4): ReLU()\n",
      "  (maxpool4): MaxPool2d(kernel_size=2, stride=2, padding=0, dilation=1, ceil_mode=False)\n",
      "  (dropout4): Dropout(p=0.4, inplace=False)\n",
      "  (fc1): Linear(in_features=9216, out_features=1000, bias=True)\n",
      "  (relu5): ReLU()\n",
      "  (dropout5): Dropout(p=0.5, inplace=False)\n",
      "  (fc2): Linear(in_features=1000, out_features=1000, bias=True)\n",
      "  (relu6): ReLU()\n",
      "  (dropout6): Dropout(p=0.6, inplace=False)\n",
      "  (fc3): Linear(in_features=1000, out_features=30, bias=True)\n",
      ")\n"
     ]
    }
   ],
   "source": [
    "class FacialKeypointDetector(nn.Module):\n",
    "    def __init__(self):\n",
    "        super(FacialKeypointDetector, self).__init__()\n",
    "        \n",
    "        # First level\n",
    "        self.conv1 = nn.Conv2d(in_channels=1, out_channels=32, kernel_size=3, stride=1, padding=1)\n",
    "        self.relu1 = nn.ReLU()\n",
    "        self.maxpool1 = nn.MaxPool2d(kernel_size=2, stride=2)\n",
    "        self.dropout1 = nn.Dropout(p=0.1)\n",
    "        \n",
    "        # Second level\n",
    "        self.conv2 = nn.Conv2d(in_channels=32, out_channels=64, kernel_size=3, stride=1, padding=1)\n",
    "        self.relu2 = nn.ReLU()\n",
    "        self.maxpool2 = nn.MaxPool2d(kernel_size=2, stride=2)\n",
    "        self.dropout2 = nn.Dropout(p=0.2)\n",
    "        \n",
    "        # Third level\n",
    "        self.conv3 = nn.Conv2d(in_channels=64, out_channels=128, kernel_size=3, stride=1, padding=1)\n",
    "        self.relu3 = nn.ReLU()\n",
    "        self.maxpool3 = nn.MaxPool2d(kernel_size=2, stride=2)\n",
    "        self.dropout3 = nn.Dropout(p=0.3)\n",
    "        \n",
    "        # Fourth level\n",
    "        self.conv4 = nn.Conv2d(in_channels=128, out_channels=256, kernel_size=3, stride=1, padding=1)\n",
    "        self.relu4 = nn.ReLU()\n",
    "        self.maxpool4 = nn.MaxPool2d(kernel_size=2, stride=2)\n",
    "        self.dropout4 = nn.Dropout(p=0.4)\n",
    "        \n",
    "        # Final fully connected layers for regression\n",
    "        self.fc1 = nn.Linear(256 * 6 * 6, 1000)\n",
    "        self.relu5 = nn.ReLU()\n",
    "        self.dropout5 = nn.Dropout(p=0.5)\n",
    "        self.fc2 = nn.Linear(1000, 1000)\n",
    "        self.relu6 = nn.ReLU()\n",
    "        self.dropout6 = nn.Dropout(p=0.6)\n",
    "        self.fc3 = nn.Linear(1000, 30)  # 30 output channels for 15 facial keypoints (x, y)\n",
    "        \n",
    "    def forward(self, x):\n",
    "        # First level\n",
    "        x = self.conv1(x)\n",
    "        x = self.relu1(x)\n",
    "        x = self.maxpool1(x)\n",
    "        x = self.dropout1(x)\n",
    "        \n",
    "        # Second level\n",
    "        x = self.conv2(x)\n",
    "        x = self.relu2(x)\n",
    "        x = self.maxpool2(x)\n",
    "        x = self.dropout2(x)\n",
    "        \n",
    "        # Third level\n",
    "        x = self.conv3(x)\n",
    "        x = self.relu3(x)\n",
    "        x = self.maxpool3(x)\n",
    "        x = self.dropout3(x)\n",
    "        \n",
    "        # Fourth level\n",
    "        x = self.conv4(x)\n",
    "        x = self.relu4(x)\n",
    "        x = self.maxpool4(x)\n",
    "        x = self.dropout4(x)\n",
    "        \n",
    "        # Flatten for fully connected layers\n",
    "        x = x.view(x.size(0), -1)\n",
    "        \n",
    "        # Fully connected layers\n",
    "        x = self.fc1(x)\n",
    "        x = self.relu5(x)\n",
    "        x = self.dropout5(x)\n",
    "        x = self.fc2(x)\n",
    "        x = self.relu6(x)\n",
    "        x = self.dropout6(x)\n",
    "        x = self.fc3(x)\n",
    "        \n",
    "        return x\n",
    "\n",
    "# Create an instance of the model\n",
    "model = FacialKeypointDetector()\n",
    "print(model)\n"
   ]
  },
  {
   "cell_type": "markdown",
   "metadata": {},
   "source": [
    "# Training"
   ]
  },
  {
   "cell_type": "code",
   "execution_count": 7,
   "metadata": {},
   "outputs": [],
   "source": [
    "def train_model(model, train_loader, num_epochs=10, lr=0.001):\n",
    "    \n",
    "    # Define loss function and optimizer\n",
    "    criterion = nn.MSELoss()  # Using Mean Squared Error Loss for regression\n",
    "    optimizer = optim.Adam(model.parameters(), lr=lr)\n",
    "    \n",
    "    # Track training loss for plotting\n",
    "    train_losses = []\n",
    "    \n",
    "    # Training loop\n",
    "    for epoch in range(num_epochs):\n",
    "        model.train()  # Set the model to train mode\n",
    "        \n",
    "        # Shuffle the training data\n",
    "        train_loader.dataset.dataframe = train_loader.dataset.dataframe.sample(frac=1).reset_index(drop=True)\n",
    "        \n",
    "        running_loss = 0.0\n",
    "        for images, keypoints in train_loader:\n",
    "\n",
    "            images, keypoints = images, keypoints\n",
    "            \n",
    "            # Zero the parameter gradients\n",
    "            optimizer.zero_grad()\n",
    "            \n",
    "            # Forward pass\n",
    "            outputs = model(images)\n",
    "            \n",
    "            # Calculate loss\n",
    "            loss = criterion(outputs, keypoints)\n",
    "            \n",
    "            # Backward pass and optimization\n",
    "            loss.backward()\n",
    "            optimizer.step()\n",
    "            \n",
    "            # Update running loss\n",
    "            running_loss += loss.item() * images.size(0)\n",
    "        \n",
    "        # Calculate average training loss for the epoch\n",
    "        epoch_loss = running_loss / len(train_loader.dataset)\n",
    "        train_losses.append(epoch_loss)\n",
    "        \n",
    "        # Print epoch statistics\n",
    "        print(f\"Epoch [{epoch+1}/{num_epochs}], Loss: {epoch_loss:.4f}\")\n",
    "    \n",
    "    # Plot training progress\n",
    "    plt.plot(range(1, num_epochs+1), train_losses, label='Training Loss')\n",
    "    plt.xlabel('Epoch')\n",
    "    plt.ylabel('Loss')\n",
    "    plt.title('Training Progress')\n",
    "    plt.legend()\n",
    "    plt.savefig('FKP_process_lr_batch_modified.png')\n",
    "    plt.show()"
   ]
  },
  {
   "cell_type": "code",
   "execution_count": 8,
   "metadata": {},
   "outputs": [
    {
     "name": "stdout",
     "output_type": "stream",
     "text": [
      "Epoch [1/10], Loss: 81908.8735\n",
      "Epoch [2/10], Loss: 2562.1456\n",
      "Epoch [3/10], Loss: 2574.8657\n",
      "Epoch [4/10], Loss: 2507.0778\n",
      "Epoch [5/10], Loss: 1548.2225\n",
      "Epoch [6/10], Loss: 551.7898\n",
      "Epoch [7/10], Loss: 381.3967\n",
      "Epoch [8/10], Loss: 445.9582\n",
      "Epoch [9/10], Loss: 432.7810\n",
      "Epoch [10/10], Loss: 321.9320\n"
     ]
    },
    {
     "data": {
      "image/png": "[encoded data removed]",
      "text/plain": [
       "<Figure size 640x480 with 1 Axes>"
      ]
     },
     "metadata": {},
     "output_type": "display_data"
    }
   ],
   "source": [
    "# Train model\n",
    "device = torch.device(\"cuda\" if torch.cuda.is_available() else \"cpu\")\n",
    "model = FacialKeypointDetector().to(device) \n",
    "train_loader = DataLoader(train_dataset, batch_size=15, shuffle=True)\n",
    "train_model(model, train_loader, num_epochs=10, lr=0.01)"
   ]
  },
  {
   "cell_type": "markdown",
   "metadata": {},
   "source": [
    "# Save the model"
   ]
  },
  {
   "cell_type": "code",
   "execution_count": 9,
   "metadata": {},
   "outputs": [],
   "source": [
    "# Define path\n",
    "PATH = '2-3_FKD.pth'\n",
    "\n",
    "# Save the model\n",
    "torch.save(model.state_dict(), PATH)"
   ]
  },
  {
   "cell_type": "markdown",
   "metadata": {},
   "source": [
    "# Test and plot image"
   ]
  },
  {
   "cell_type": "code",
   "execution_count": 10,
   "metadata": {},
   "outputs": [
    {
     "data": {
      "image/png": "[encoded data removed]",
      "text/plain": [
       "<Figure size 640x480 with 1 Axes>"
      ]
     },
     "metadata": {},
     "output_type": "display_data"
    }
   ],
   "source": [
    "# Load the saved model\n",
    "model = FacialKeypointDetector()\n",
    "model.load_state_dict(torch.load('2-3_FKD.pth'))\n",
    "model.eval()  # Set the model to evaluation mode\n",
    "\n",
    "# Define a function to calculate mean squared error (MSE)\n",
    "def calculate_mse(predictions, targets):\n",
    "    return np.mean((predictions - targets) ** 2)\n",
    "\n",
    "# Evaluate the model on the test data\n",
    "mse_values = []\n",
    "with torch.no_grad():\n",
    "    \n",
    "    for images, keypoints in test_loader:\n",
    "        # Forward pass\n",
    "        outputs = model(images)\n",
    "        \n",
    "        # Convert predictions and targets to numpy arrays\n",
    "        predictions = outputs.cpu().numpy()\n",
    "        targets = keypoints.cpu().numpy()\n",
    "        \n",
    "        # Calculate MSE for each test data\n",
    "        mse = calculate_mse(predictions, targets)\n",
    "        mse_values.append(mse)\n",
    "\n",
    "# Find the index of the test data with the smallest MSE\n",
    "min_mse_index = np.argmin(mse_values)\n",
    "\n",
    "# Get the image and corresponding keypoints with the smallest MSE\n",
    "min_mse_image, min_mse_keypoints = test_dataset[min_mse_index]\n",
    "min_mse_image = min_mse_image.numpy().squeeze()  # Remove the batch dimension\n",
    "min_mse_keypoints = min_mse_keypoints.numpy()\n",
    "\n",
    "# Plot the image with corresponding keypoints\n",
    "plt.imshow(min_mse_image, cmap='gray')\n",
    "plt.scatter(min_mse_keypoints[0::2], min_mse_keypoints[1::2], c='red', marker='x')\n",
    "plt.title('Image with Smallest MSE and Corresponding Keypoints')\n",
    "plt.axis('off')\n",
    "\n",
    "# Save the plot as 2-3_img.png\n",
    "plt.savefig('2-3_img.png')\n",
    "plt.show()\n"
   ]
  }
 ],
 "metadata": {
  "kernelspec": {
   "display_name": "Python 3 (ipykernel)",
   "language": "python",
   "name": "python3"
  },
  "language_info": {
   "codemirror_mode": {
    "name": "ipython",
    "version": 3
   },
   "file_extension": ".py",
   "mimetype": "text/x-python",
   "name": "python",
   "nbconvert_exporter": "python",
   "pygments_lexer": "ipython3",
   "version": "3.11.7"
  }
 },
 "nbformat": 4,
 "nbformat_minor": 4
}
