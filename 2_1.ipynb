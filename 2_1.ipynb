{
 "cells": [
  {
   "cell_type": "markdown",
   "metadata": {},
   "source": [
    "## Question 2.1 \n",
    "\n",
    "In this task you will carry out a classification task for a subset of CIFAR-10/100 data using PyTorch. The data and images needed for the task are in the 2 1 folder. Follow the instructions below to complete this task. Complete your code in the provided Notebook file.\n",
    "\n",
    "Submit this notebook file alongside the report and model checkpoint. In this task, we will beperforming transfer learning on the CIFAR-10/100 Dataset. You will be expected to load inexisting pre-trained models, adapt said models for the current task and optimise the models."
   ]
  },
  {
   "cell_type": "code",
   "execution_count": 26,
   "metadata": {},
   "outputs": [],
   "source": [
    "import os\n",
    "import torch\n",
    "import torch.nn as nn\n",
    "import torchvision.models as models\n",
    "import torchvision.transforms as transforms\n",
    "import torch.optim as optim\n",
    "from torch.utils.data import DataLoader\n",
    "from torchvision.datasets import ImageFolder\n",
    "import torchvision\n",
    "from torchinfo import summary\n",
    "from tqdm import tqdm\n",
    "import sys \n",
    "import matplotlib.pyplot as plt\n",
    "import numpy as np\n",
    "import torchvision\n",
    "from torch.utils.tensorboard import SummaryWriter\n",
    "import torch.nn.functional as F\n",
    "import seaborn as sns\n"
   ]
  },
  {
   "cell_type": "markdown",
   "metadata": {},
   "source": [
    "## Transform, loader, data, batch, and classes"
   ]
  },
  {
   "cell_type": "code",
   "execution_count": 2,
   "metadata": {},
   "outputs": [],
   "source": [
    "# Define transformation of the datasets\n",
    "data_transform = transforms.Compose([\n",
    "    transforms.Resize((32, 32)),  # Resize images to the input size of VGG16\n",
    "    transforms.ToTensor(),\n",
    "    transforms.Normalize((0.5, 0.5, 0.5), (0.5, 0.5, 0.5))  # Normalize images\n",
    "])\n",
    "\n",
    "batch_size = 128\n",
    "\n",
    "train_dataset = ImageFolder(root='CIFAR-10/train', transform=data_transform)\n",
    "\n",
    "train_loader = torch.utils.data.DataLoader(train_dataset, batch_size=batch_size,\n",
    "                                          shuffle=True, num_workers=2)\n",
    "\n",
    "test_dataset = ImageFolder(root='CIFAR-10/test', transform=data_transform)\n",
    "\n",
    "test_loader = torch.utils.data.DataLoader(test_dataset, batch_size=batch_size,\n",
    "                                          shuffle=True, num_workers=2)\n",
    "\n",
    "classes = ('airplane', 'automobile', 'bird', 'cat', 'deer', 'dog', 'frog', 'horse', 'ship', 'truck')\n",
    "\n",
    "def plt_imshow(img, one_channel=False):\n",
    "    if one_channel:\n",
    "        img = img.mean(dim=0)\n",
    "    img = img / 2 + 0.5     # unnormalize\n",
    "    npimg = img.cpu().numpy()\n",
    "    if one_channel:\n",
    "        plt.imshow(npimg, cmap=\"Greys\")\n",
    "    else:\n",
    "        plt.imshow(np.transpose(npimg, (1, 2, 0)))"
   ]
  },
  {
   "cell_type": "markdown",
   "metadata": {},
   "source": [
    "## Modified VGG16 net\n"
   ]
  },
  {
   "cell_type": "markdown",
   "metadata": {},
   "source": [
    "## Model to train"
   ]
  },
  {
   "cell_type": "code",
   "execution_count": 41,
   "metadata": {},
   "outputs": [
    {
     "name": "stdout",
     "output_type": "stream",
     "text": [
      "ModifiedVGG16(\n",
      "  (vgg16): VGG(\n",
      "    (features): Sequential(\n",
      "      (0): Conv2d(3, 64, kernel_size=(3, 3), stride=(1, 1), padding=(1, 1))\n",
      "      (1): ReLU(inplace=True)\n",
      "      (2): Conv2d(64, 64, kernel_size=(3, 3), stride=(1, 1), padding=(1, 1))\n",
      "      (3): ReLU(inplace=True)\n",
      "      (4): MaxPool2d(kernel_size=2, stride=2, padding=0, dilation=1, ceil_mode=False)\n",
      "      (5): Conv2d(64, 128, kernel_size=(3, 3), stride=(1, 1), padding=(1, 1))\n",
      "      (6): ReLU(inplace=True)\n",
      "      (7): Conv2d(128, 128, kernel_size=(3, 3), stride=(1, 1), padding=(1, 1))\n",
      "      (8): ReLU(inplace=True)\n",
      "      (9): MaxPool2d(kernel_size=2, stride=2, padding=0, dilation=1, ceil_mode=False)\n",
      "      (10): Conv2d(128, 256, kernel_size=(3, 3), stride=(1, 1), padding=(1, 1))\n",
      "      (11): ReLU(inplace=True)\n",
      "      (12): Conv2d(256, 256, kernel_size=(3, 3), stride=(1, 1), padding=(1, 1))\n",
      "      (13): ReLU(inplace=True)\n",
      "      (14): Conv2d(256, 256, kernel_size=(3, 3), stride=(1, 1), padding=(1, 1))\n",
      "      (15): ReLU(inplace=True)\n",
      "      (16): MaxPool2d(kernel_size=2, stride=2, padding=0, dilation=1, ceil_mode=False)\n",
      "      (17): Conv2d(256, 512, kernel_size=(3, 3), stride=(1, 1), padding=(1, 1))\n",
      "      (18): ReLU(inplace=True)\n",
      "      (19): Conv2d(512, 512, kernel_size=(3, 3), stride=(1, 1), padding=(1, 1))\n",
      "      (20): ReLU(inplace=True)\n",
      "      (21): Conv2d(512, 512, kernel_size=(3, 3), stride=(1, 1), padding=(1, 1))\n",
      "      (22): ReLU(inplace=True)\n",
      "      (23): MaxPool2d(kernel_size=2, stride=2, padding=0, dilation=1, ceil_mode=False)\n",
      "      (24): Conv2d(512, 512, kernel_size=(3, 3), stride=(1, 1), padding=(1, 1))\n",
      "      (25): ReLU(inplace=True)\n",
      "      (26): Conv2d(512, 512, kernel_size=(3, 3), stride=(1, 1), padding=(1, 1))\n",
      "      (27): ReLU(inplace=True)\n",
      "      (28): Conv2d(512, 512, kernel_size=(3, 3), stride=(1, 1), padding=(1, 1))\n",
      "      (29): ReLU(inplace=True)\n",
      "      (30): MaxPool2d(kernel_size=2, stride=2, padding=0, dilation=1, ceil_mode=False)\n",
      "    )\n",
      "    (avgpool): AdaptiveAvgPool2d(output_size=(7, 7))\n",
      "    (classifier): Sequential(\n",
      "      (0): Linear(in_features=25088, out_features=4096, bias=True)\n",
      "      (1): ReLU(inplace=True)\n",
      "      (2): Dropout(p=0.5, inplace=False)\n",
      "      (3): Linear(in_features=4096, out_features=4096, bias=True)\n",
      "      (4): ReLU(inplace=True)\n",
      "      (5): Dropout(p=0.5, inplace=False)\n",
      "      (6): Linear(in_features=4096, out_features=10, bias=True)\n",
      "    )\n",
      "  )\n",
      ")\n"
     ]
    }
   ],
   "source": [
    "class ModifiedVGG16(nn.Module):\n",
    "    def __init__(self, num_classes=10):\n",
    "        super(ModifiedVGG16, self).__init__()\n",
    "        # Load the pre-trained VGG16 model\n",
    "        self.vgg16 = models.vgg16(weights='IMAGENET1K_V1')\n",
    "        \n",
    "        # Modify the last fully connected layer to output 10 classes\n",
    "        self.vgg16.classifier[6] = nn.Linear(4096, num_classes)\n",
    "\n",
    "    def forward(self, x):\n",
    "        x = self.vgg16(x)\n",
    "        return x\n",
    "\n",
    "modified_model_CIFAR_10 = ModifiedVGG16(num_classes=10)\n",
    "print(modified_model_CIFAR_10)"
   ]
  },
  {
   "cell_type": "markdown",
   "metadata": {},
   "source": [
    "# Criterion, optimizer"
   ]
  },
  {
   "cell_type": "code",
   "execution_count": 42,
   "metadata": {},
   "outputs": [],
   "source": [
    "criterion = nn.CrossEntropyLoss()\n",
    "optimizer = optim.SGD(modified_model_CIFAR_10.parameters(),lr=0.01,momentum=0.9)"
   ]
  },
  {
   "cell_type": "code",
   "execution_count": 49,
   "metadata": {},
   "outputs": [
    {
     "name": "stdout",
     "output_type": "stream",
     "text": [
      "mps\n"
     ]
    }
   ],
   "source": [
    "writer = SummaryWriter('./2_1/runs\"')\n",
    "\n",
    "if torch.backends.mps.is_available():\n",
    "    device = torch.device('mps')\n",
    "    print(device)\n",
    "\n",
    "# Function to train for one epoch\n",
    "def train_one_epoch(model, optimizer, data_loader, device, epoch):\n",
    "    \n",
    "    model.train()\n",
    "    model.to(device)\n",
    "\n",
    "    mean_loss = torch.zeros(1).to(device)\n",
    "    optimizer.zero_grad()\n",
    "    \n",
    "    # Wrap data_loader with tqdm for progress bar\n",
    "    data_loader = tqdm(data_loader, file=sys.stdout)\n",
    "\n",
    "    for iter, data in enumerate(data_loader):\n",
    "\n",
    "        inputs, labels = data\n",
    "\n",
    "        inputs = data[0].to(device)\n",
    "        labels = data[1].to(device)\n",
    "\n",
    "        net_out = model(inputs)\n",
    "\n",
    "        loss = criterion(net_out, labels)\n",
    "        loss.backward()\n",
    "\n",
    "        mean_loss = (mean_loss * iter + loss.detach()) / (iter + 1)\n",
    "        data_loader.desc = f\"[epoch{epoch}] mean_loss: {round(mean_loss.item(), 5)}\"\n",
    "\n",
    "        if not torch.isfinite(loss):\n",
    "            print(\"ending training\", loss)\n",
    "            sys.exit(1)\n",
    "            \n",
    "        optimizer.step()\n",
    "        optimizer.zero_grad()\n",
    "\n",
    "        # torch.save(model.state_dict(), f\"{arg.save_weights}/model-{epoch}.pth\")\n",
    "\n",
    "    return mean_loss.item()\n"
   ]
  },
  {
   "cell_type": "code",
   "execution_count": 51,
   "metadata": {},
   "outputs": [],
   "source": [
    "def plot_classes(model, images, labels):\n",
    "\n",
    "    model.eval()\n",
    "    with torch.no_grad():\n",
    "        preds = model(images)\n",
    "        preds_softmax = F.softmax(preds, dim=1)\n",
    "        pred_probs, pred_labels = torch.max(preds_softmax, dim=1)\n",
    "    \n",
    "    fig = plt.figure(figsize=(12, 48))\n",
    "    for idx in range(min(4, images.shape[0])):  # Show 4 images from batch\n",
    "        ax = fig.add_subplot(1, 4, idx+1, xticks=[], yticks=[])\n",
    "        plt_imshow(images[idx], one_channel=False)\n",
    "        ax.set_title(f\"{classes[pred_labels[idx]]}, {pred_probs[idx]:.5f}\\n(label: {classes[labels[idx]]})\",\n",
    "                     color=(\"green\" if pred_labels[idx] == labels[idx] else \"red\"))\n",
    "    \n",
    "    writer.add_figure('predictions vs. actuals', fig, step)\n",
    "    model.train()"
   ]
  },
  {
   "cell_type": "markdown",
   "metadata": {},
   "source": [
    "# Traning the model"
   ]
  },
  {
   "cell_type": "code",
   "execution_count": 52,
   "metadata": {},
   "outputs": [
    {
     "name": "stdout",
     "output_type": "stream",
     "text": [
      "[epoch0] mean_loss: 1.86079: 100%|██████████| 16/16 [00:14<00:00,  1.09it/s]\n",
      "Epoch 1/20, Train Loss: 1.86079\n",
      "[epoch1] mean_loss: 1.25327: 100%|██████████| 16/16 [00:13<00:00,  1.22it/s]\n",
      "Epoch 2/20, Train Loss: 1.25327\n",
      "[epoch2] mean_loss: 0.9262: 100%|██████████| 16/16 [00:14<00:00,  1.11it/s] \n",
      "Epoch 3/20, Train Loss: 0.92620\n",
      "[epoch3] mean_loss: 0.5873: 100%|██████████| 16/16 [00:13<00:00,  1.21it/s] \n",
      "Epoch 4/20, Train Loss: 0.58730\n",
      "[epoch4] mean_loss: 0.44618: 100%|██████████| 16/16 [00:13<00:00,  1.19it/s]\n",
      "Epoch 5/20, Train Loss: 0.44618\n",
      "[epoch5] mean_loss: 0.3361: 100%|██████████| 16/16 [00:13<00:00,  1.21it/s] \n",
      "Epoch 6/20, Train Loss: 0.33610\n",
      "[epoch6] mean_loss: 0.20926: 100%|██████████| 16/16 [00:13<00:00,  1.22it/s]\n",
      "Epoch 7/20, Train Loss: 0.20926\n",
      "[epoch7] mean_loss: 0.15599: 100%|██████████| 16/16 [00:15<00:00,  1.06it/s]\n",
      "Epoch 8/20, Train Loss: 0.15599\n",
      "[epoch8] mean_loss: 0.12057: 100%|██████████| 16/16 [00:14<00:00,  1.13it/s]\n",
      "Epoch 9/20, Train Loss: 0.12057\n",
      "[epoch9] mean_loss: 0.0864: 100%|██████████| 16/16 [00:13<00:00,  1.22it/s] \n",
      "Epoch 10/20, Train Loss: 0.08640\n",
      "[epoch10] mean_loss: 0.10205: 100%|██████████| 16/16 [00:13<00:00,  1.15it/s]\n",
      "Epoch 11/20, Train Loss: 0.10205\n",
      "[epoch11] mean_loss: 0.0541: 100%|██████████| 16/16 [00:14<00:00,  1.13it/s] \n",
      "Epoch 12/20, Train Loss: 0.05410\n",
      "[epoch12] mean_loss: 0.03571: 100%|██████████| 16/16 [00:13<00:00,  1.19it/s]\n",
      "Epoch 13/20, Train Loss: 0.03571\n",
      "[epoch13] mean_loss: 0.02756: 100%|██████████| 16/16 [00:13<00:00,  1.17it/s]\n",
      "Epoch 14/20, Train Loss: 0.02756\n",
      "[epoch14] mean_loss: 0.03085: 100%|██████████| 16/16 [00:14<00:00,  1.10it/s]\n",
      "Epoch 15/20, Train Loss: 0.03085\n",
      "[epoch15] mean_loss: 0.02444: 100%|██████████| 16/16 [00:13<00:00,  1.21it/s]\n",
      "Epoch 16/20, Train Loss: 0.02444\n",
      "[epoch16] mean_loss: 0.05393: 100%|██████████| 16/16 [00:13<00:00,  1.23it/s]\n",
      "Epoch 17/20, Train Loss: 0.05393\n",
      "[epoch17] mean_loss: 0.07335: 100%|██████████| 16/16 [00:13<00:00,  1.20it/s]\n",
      "Epoch 18/20, Train Loss: 0.07335\n",
      "[epoch18] mean_loss: 0.04356: 100%|██████████| 16/16 [00:13<00:00,  1.21it/s]\n",
      "Epoch 19/20, Train Loss: 0.04356\n",
      "[epoch19] mean_loss: 0.09581: 100%|██████████| 16/16 [00:14<00:00,  1.14it/s]\n",
      "Epoch 20/20, Train Loss: 0.09581\n"
     ]
    },
    {
     "data": {
      "image/png": "[encoded data removed]",
      "text/plain": [
       "<Figure size 640x480 with 1 Axes>"
      ]
     },
     "metadata": {},
     "output_type": "display_data"
    }
   ],
   "source": [
    "num_epochs = 20;\n",
    "\n",
    "# Initialize lists to store loss and accuracy values\n",
    "train_losses = []\n",
    "\n",
    "for epoch in range(num_epochs):\n",
    "    # Train one epoch and get the training loss\n",
    "    train_loss = train_one_epoch(modified_model_CIFAR_10, optimizer, train_loader, device, epoch)\n",
    "    \n",
    "    # Append the training loss to the list\n",
    "    train_losses.append(train_loss)\n",
    "    \n",
    "    # Print training progress\n",
    "    print(f\"Epoch {epoch + 1}/{num_epochs}, Train Loss: {train_loss:.5f}\")\n",
    "    \n",
    "# Plotting the loss curve\n",
    "plt.plot(train_losses, label='Training Loss')\n",
    "plt.xlabel('Epoch')\n",
    "plt.ylabel('Loss')\n",
    "plt.title('Training Loss Curve')\n",
    "plt.legend()\n",
    "plt.savefig('training_loss_curve.png')  # Save the loss curve plot\n",
    "\n",
    "# Closing the tensorboard writer\n",
    "writer.close()\n"
   ]
  },
  {
   "cell_type": "markdown",
   "metadata": {},
   "source": [
    "# Save the model"
   ]
  },
  {
   "cell_type": "code",
   "execution_count": 54,
   "metadata": {},
   "outputs": [],
   "source": [
    "if os.path.exists('./weights') is False:\n",
    "    os.makedirs('./weights')\n",
    "\n",
    "PATH = './weights2'\n",
    "\n",
    "torch.save(modified_model_CIFAR_10.state_dict(), f'{PATH}/model{3}.pth')"
   ]
  },
  {
   "cell_type": "markdown",
   "metadata": {},
   "source": [
    "# Load the Model"
   ]
  },
  {
   "cell_type": "code",
   "execution_count": 55,
   "metadata": {},
   "outputs": [
    {
     "name": "stdout",
     "output_type": "stream",
     "text": [
      "ModifiedVGG16(\n",
      "  (vgg16): VGG(\n",
      "    (features): Sequential(\n",
      "      (0): Conv2d(3, 64, kernel_size=(3, 3), stride=(1, 1), padding=(1, 1))\n",
      "      (1): ReLU(inplace=True)\n",
      "      (2): Conv2d(64, 64, kernel_size=(3, 3), stride=(1, 1), padding=(1, 1))\n",
      "      (3): ReLU(inplace=True)\n",
      "      (4): MaxPool2d(kernel_size=2, stride=2, padding=0, dilation=1, ceil_mode=False)\n",
      "      (5): Conv2d(64, 128, kernel_size=(3, 3), stride=(1, 1), padding=(1, 1))\n",
      "      (6): ReLU(inplace=True)\n",
      "      (7): Conv2d(128, 128, kernel_size=(3, 3), stride=(1, 1), padding=(1, 1))\n",
      "      (8): ReLU(inplace=True)\n",
      "      (9): MaxPool2d(kernel_size=2, stride=2, padding=0, dilation=1, ceil_mode=False)\n",
      "      (10): Conv2d(128, 256, kernel_size=(3, 3), stride=(1, 1), padding=(1, 1))\n",
      "      (11): ReLU(inplace=True)\n",
      "      (12): Conv2d(256, 256, kernel_size=(3, 3), stride=(1, 1), padding=(1, 1))\n",
      "      (13): ReLU(inplace=True)\n",
      "      (14): Conv2d(256, 256, kernel_size=(3, 3), stride=(1, 1), padding=(1, 1))\n",
      "      (15): ReLU(inplace=True)\n",
      "      (16): MaxPool2d(kernel_size=2, stride=2, padding=0, dilation=1, ceil_mode=False)\n",
      "      (17): Conv2d(256, 512, kernel_size=(3, 3), stride=(1, 1), padding=(1, 1))\n",
      "      (18): ReLU(inplace=True)\n",
      "      (19): Conv2d(512, 512, kernel_size=(3, 3), stride=(1, 1), padding=(1, 1))\n",
      "      (20): ReLU(inplace=True)\n",
      "      (21): Conv2d(512, 512, kernel_size=(3, 3), stride=(1, 1), padding=(1, 1))\n",
      "      (22): ReLU(inplace=True)\n",
      "      (23): MaxPool2d(kernel_size=2, stride=2, padding=0, dilation=1, ceil_mode=False)\n",
      "      (24): Conv2d(512, 512, kernel_size=(3, 3), stride=(1, 1), padding=(1, 1))\n",
      "      (25): ReLU(inplace=True)\n",
      "      (26): Conv2d(512, 512, kernel_size=(3, 3), stride=(1, 1), padding=(1, 1))\n",
      "      (27): ReLU(inplace=True)\n",
      "      (28): Conv2d(512, 512, kernel_size=(3, 3), stride=(1, 1), padding=(1, 1))\n",
      "      (29): ReLU(inplace=True)\n",
      "      (30): MaxPool2d(kernel_size=2, stride=2, padding=0, dilation=1, ceil_mode=False)\n",
      "    )\n",
      "    (avgpool): AdaptiveAvgPool2d(output_size=(7, 7))\n",
      "    (classifier): Sequential(\n",
      "      (0): Linear(in_features=25088, out_features=4096, bias=True)\n",
      "      (1): ReLU(inplace=True)\n",
      "      (2): Dropout(p=0.5, inplace=False)\n",
      "      (3): Linear(in_features=4096, out_features=4096, bias=True)\n",
      "      (4): ReLU(inplace=True)\n",
      "      (5): Dropout(p=0.5, inplace=False)\n",
      "      (6): Linear(in_features=4096, out_features=10, bias=True)\n",
      "    )\n",
      "  )\n",
      ")\n"
     ]
    }
   ],
   "source": [
    "updated_model = './weights2/model3.pth'\n",
    "modified_model_CIFAR_10.load_state_dict(torch.load(updated_model))\n",
    "print(modified_model_CIFAR_10)"
   ]
  },
  {
   "cell_type": "markdown",
   "metadata": {},
   "source": [
    "# Testing the Model"
   ]
  },
  {
   "cell_type": "code",
   "execution_count": 56,
   "metadata": {},
   "outputs": [
    {
     "name": "stdout",
     "output_type": "stream",
     "text": [
      "Average Cross-Entropy Loss: 1.6874\n",
      "Accuracy: 0.7100\n"
     ]
    }
   ],
   "source": [
    "total_loss = 0.0\n",
    "correct_predictions = 0\n",
    "total_images = 0\n",
    "\n",
    "for images, labels in test_loader:\n",
    "\n",
    "    images, labels = images.to(device), labels.to(device)\n",
    "\n",
    "    outputs = modified_model_0(images)\n",
    "    \n",
    "    loss = criterion(outputs, labels)\n",
    "    \n",
    "    total_loss += loss.item()\n",
    "    \n",
    "    _, predicted = torch.max(outputs.data, 1)\n",
    "    \n",
    "    total_images += labels.size(0)\n",
    "    \n",
    "    correct_predictions += (predicted == labels).sum().item()\n",
    "\n",
    "\n",
    "average_loss = total_loss / len(test_loader)\n",
    "accuracy = correct_predictions / total_images\n",
    "\n",
    "print(f'Average Cross-Entropy Loss: {average_loss:.4f}')\n",
    "print(f'Accuracy: {accuracy:.4f}')"
   ]
  },
  {
   "cell_type": "markdown",
   "metadata": {},
   "source": [
    "# Show accuracy and entropy per class"
   ]
  },
  {
   "cell_type": "code",
   "execution_count": 18,
   "metadata": {},
   "outputs": [
    {
     "name": "stdout",
     "output_type": "stream",
     "text": [
      "Accuracy for class: 2     is 72.0 %\n",
      "Average cross entropy for class: 2     is 1.67\n",
      "Accuracy for class: 8     is 66.0 %\n",
      "Average cross entropy for class: 8     is 1.67\n",
      "Accuracy for class: 5     is 60.0 %\n",
      "Average cross entropy for class: 5     is 1.67\n",
      "Accuracy for class: 4     is 60.0 %\n",
      "Average cross entropy for class: 4     is 1.67\n",
      "Accuracy for class: 3     is 48.0 %\n",
      "Average cross entropy for class: 3     is 1.67\n",
      "Accuracy for class: 9     is 84.0 %\n",
      "Average cross entropy for class: 9     is 1.67\n",
      "Accuracy for class: 1     is 92.0 %\n",
      "Average cross entropy for class: 1     is 1.67\n",
      "Accuracy for class: 0     is 80.0 %\n",
      "Average cross entropy for class: 0     is 1.67\n",
      "Accuracy for class: 6     is 66.0 %\n",
      "Average cross entropy for class: 6     is 1.67\n",
      "Accuracy for class: 7     is 84.0 %\n",
      "Average cross entropy for class: 7     is 1.67\n"
     ]
    }
   ],
   "source": [
    "loss_fn = torch.nn.CrossEntropyLoss()\n",
    "total_loss = 0.0\n",
    "correct_predictions = 0\n",
    "total_images = 0\n",
    "correct_predictions_per_class = {}\n",
    "total_images_per_class = {}\n",
    "\n",
    "for images, labels in test_loader:\n",
    "    images, labels = images.to(device), labels.to(device)\n",
    "    outputs = modified_model_0(images)\n",
    "    loss = loss_fn(outputs, labels)\n",
    "    total_loss += loss.item()\n",
    "    _, predicted = torch.max(outputs.data, 1)\n",
    "    total_images += labels.size(0)\n",
    "    correct_predictions += (predicted == labels).sum().item()\n",
    "\n",
    "    # Update the per-class correct predictions and total images\n",
    "    for i, label in enumerate(labels):\n",
    "        label_str = str(label.item())\n",
    "        if label_str not in correct_predictions_per_class:\n",
    "            correct_predictions_per_class[label_str] = 0\n",
    "            total_images_per_class[label_str] = 0\n",
    "        if predicted[i] == labels[i]:\n",
    "            correct_predictions_per_class[label_str] += 1\n",
    "        total_images_per_class[label_str] += 1\n",
    "\n",
    "average_loss = total_loss / len(test_loader)\n",
    "accuracy = correct_predictions / total_images\n",
    "\n",
    "for classname, correct_count in correct_predictions_per_class.items():\n",
    "    total_images_for_class = total_images_per_class[classname]\n",
    "    accuracy = 100 * float(correct_count) / total_images_for_class\n",
    "    print(f'Accuracy for class: {classname:5s} is {accuracy:.1f} %')\n",
    "\n",
    "    pred_probs = torch.softmax(outputs, dim=1)\n",
    "    avg_cross_entropy = -torch.log(pred_probs[range(len(labels)), labels]).mean().item()\n",
    "    print(f'Average cross entropy for class: {classname:5s} is {avg_cross_entropy:.2f}')"
   ]
  },
  {
   "cell_type": "markdown",
   "metadata": {},
   "source": [
    "## Load CIFAR-100"
   ]
  },
  {
   "cell_type": "code",
   "execution_count": 62,
   "metadata": {},
   "outputs": [
    {
     "name": "stdout",
     "output_type": "stream",
     "text": [
      "(tensor([[[ 1.0000,  0.9922,  0.9922,  ...,  1.0000,  1.0000,  1.0000],\n",
      "         [ 1.0000,  0.9765,  0.9843,  ...,  0.9843,  0.9843,  0.9843],\n",
      "         [ 1.0000,  0.9765,  0.9843,  ...,  0.9843,  0.9843,  0.9843],\n",
      "         ...,\n",
      "         [ 1.0000,  0.9294,  0.3333,  ..., -0.6078, -0.5529,  0.6392],\n",
      "         [ 1.0000,  0.9686,  0.9765,  ..., -0.6863,  0.2706,  0.9686],\n",
      "         [ 1.0000,  0.9765,  0.9765,  ...,  0.1373,  0.9451,  0.9922]],\n",
      "\n",
      "        [[ 1.0000,  0.9922,  0.9922,  ...,  1.0000,  1.0000,  1.0000],\n",
      "         [ 1.0000,  0.9765,  0.9843,  ...,  0.9843,  0.9843,  0.9843],\n",
      "         [ 1.0000,  0.9765,  0.9843,  ...,  0.9843,  0.9843,  0.9843],\n",
      "         ...,\n",
      "         [ 1.0000,  0.9294,  0.3176,  ..., -0.6078, -0.5529,  0.6392],\n",
      "         [ 1.0000,  0.9686,  0.9686,  ..., -0.6863,  0.2706,  0.9686],\n",
      "         [ 1.0000,  0.9765,  0.9765,  ...,  0.1373,  0.9451,  0.9922]],\n",
      "\n",
      "        [[ 1.0000,  0.9922,  0.9922,  ...,  1.0000,  1.0000,  1.0000],\n",
      "         [ 1.0000,  0.9765,  0.9843,  ...,  0.9843,  0.9843,  0.9843],\n",
      "         [ 1.0000,  0.9765,  0.9843,  ...,  0.9843,  0.9843,  0.9843],\n",
      "         ...,\n",
      "         [ 1.0000,  0.9294,  0.3255,  ..., -0.6078, -0.5529,  0.6392],\n",
      "         [ 1.0000,  0.9686,  0.9686,  ..., -0.6863,  0.2706,  0.9686],\n",
      "         [ 1.0000,  0.9765,  0.9765,  ...,  0.1373,  0.9451,  0.9922]]]), 10)\n"
     ]
    }
   ],
   "source": [
    "class ModifiedImageFolder(ImageFolder):\n",
    "    def __init__(self, root, transform=None, target_transform=None):\n",
    "        super().__init__(root, transform=transform, target_transform=target_transform)\n",
    "\n",
    "    def __getitem__(self, index):\n",
    "        original_image, original_label = super().__getitem__(index)\n",
    "        if original_label == 0:\n",
    "            # Change label 0 to 10\n",
    "            original_label = 10\n",
    "        return original_image, original_label\n",
    "\n",
    "# Define transformation of the datasets\n",
    "transform_2 = transforms.Compose([\n",
    "    transforms.Resize((32, 32)),  # Resize images to the input size of VGG16\n",
    "    transforms.ToTensor(),\n",
    "    transforms.Normalize((0.5, 0.5, 0.5), (0.5, 0.5, 0.5))  # Normalize images\n",
    "])\n",
    "\n",
    "batch_size = 128\n",
    "\n",
    "# Create a modified dataset using ModifiedImageFolder\n",
    "train_dataset_100 = ModifiedImageFolder(root='CIFAR-100/train', transform=transform_2)\n",
    "\n",
    "train_loader_100 = torch.utils.data.DataLoader(train_dataset_100, batch_size=batch_size,\n",
    "                                          shuffle=True, num_workers=2)\n",
    "\n",
    "classes = ('airplane', 'automobile', 'bird', 'cat', 'deer', 'dog', 'frog', 'horse', 'ship', 'truck','bycicle')\n",
    "\n",
    "print(train_dataset_100[1])\n"
   ]
  },
  {
   "cell_type": "markdown",
   "metadata": {},
   "source": [
    "# Redefine the model from above in separate variable to avoid counter instantiation across models"
   ]
  },
  {
   "cell_type": "code",
   "execution_count": 57,
   "metadata": {},
   "outputs": [],
   "source": [
    "# class ModifiedVGG16(nn.Module):\n",
    "#     def __init__(self, num_classes=10):\n",
    "#         super(ModifiedVGG16, self).__init__()\n",
    "#         # Load the pre-trained VGG16 model\n",
    "#         self.vgg16 = models.vgg16(weights='IMAGENET1K_V1')\n",
    "        \n",
    "#         # Modify the last fully connected layer to output 10 classes\n",
    "#         self.vgg16.classifier[6] = nn.Linear(4096, num_classes)\n",
    "\n",
    "#     def forward(self, x):\n",
    "#         x = self.vgg16(x)\n",
    "#         return x\n",
    "\n",
    "# CIFAR_100_model = ModifiedVGG16(num_classes=10)\n",
    "# print(CIFAR_100_model)"
   ]
  },
  {
   "cell_type": "markdown",
   "metadata": {},
   "source": [
    "# Modify the architecture s oit fits 11 classes"
   ]
  },
  {
   "cell_type": "code",
   "execution_count": 58,
   "metadata": {},
   "outputs": [
    {
     "name": "stdout",
     "output_type": "stream",
     "text": [
      "VGG(\n",
      "  (features): Sequential(\n",
      "    (0): Conv2d(3, 64, kernel_size=(3, 3), stride=(1, 1), padding=(1, 1))\n",
      "    (1): ReLU(inplace=True)\n",
      "    (2): Conv2d(64, 64, kernel_size=(3, 3), stride=(1, 1), padding=(1, 1))\n",
      "    (3): ReLU(inplace=True)\n",
      "    (4): MaxPool2d(kernel_size=2, stride=2, padding=0, dilation=1, ceil_mode=False)\n",
      "    (5): Conv2d(64, 128, kernel_size=(3, 3), stride=(1, 1), padding=(1, 1))\n",
      "    (6): ReLU(inplace=True)\n",
      "    (7): Conv2d(128, 128, kernel_size=(3, 3), stride=(1, 1), padding=(1, 1))\n",
      "    (8): ReLU(inplace=True)\n",
      "    (9): MaxPool2d(kernel_size=2, stride=2, padding=0, dilation=1, ceil_mode=False)\n",
      "    (10): Conv2d(128, 256, kernel_size=(3, 3), stride=(1, 1), padding=(1, 1))\n",
      "    (11): ReLU(inplace=True)\n",
      "    (12): Conv2d(256, 256, kernel_size=(3, 3), stride=(1, 1), padding=(1, 1))\n",
      "    (13): ReLU(inplace=True)\n",
      "    (14): Conv2d(256, 256, kernel_size=(3, 3), stride=(1, 1), padding=(1, 1))\n",
      "    (15): ReLU(inplace=True)\n",
      "    (16): MaxPool2d(kernel_size=2, stride=2, padding=0, dilation=1, ceil_mode=False)\n",
      "    (17): Conv2d(256, 512, kernel_size=(3, 3), stride=(1, 1), padding=(1, 1))\n",
      "    (18): ReLU(inplace=True)\n",
      "    (19): Conv2d(512, 512, kernel_size=(3, 3), stride=(1, 1), padding=(1, 1))\n",
      "    (20): ReLU(inplace=True)\n",
      "    (21): Conv2d(512, 512, kernel_size=(3, 3), stride=(1, 1), padding=(1, 1))\n",
      "    (22): ReLU(inplace=True)\n",
      "    (23): MaxPool2d(kernel_size=2, stride=2, padding=0, dilation=1, ceil_mode=False)\n",
      "    (24): Conv2d(512, 512, kernel_size=(3, 3), stride=(1, 1), padding=(1, 1))\n",
      "    (25): ReLU(inplace=True)\n",
      "    (26): Conv2d(512, 512, kernel_size=(3, 3), stride=(1, 1), padding=(1, 1))\n",
      "    (27): ReLU(inplace=True)\n",
      "    (28): Conv2d(512, 512, kernel_size=(3, 3), stride=(1, 1), padding=(1, 1))\n",
      "    (29): ReLU(inplace=True)\n",
      "    (30): MaxPool2d(kernel_size=2, stride=2, padding=0, dilation=1, ceil_mode=False)\n",
      "  )\n",
      "  (avgpool): AdaptiveAvgPool2d(output_size=(7, 7))\n",
      "  (classifier): Sequential(\n",
      "    (0): Linear(in_features=25088, out_features=4096, bias=True)\n",
      "    (1): ReLU(inplace=True)\n",
      "    (2): Dropout(p=0.5, inplace=False)\n",
      "    (3): Linear(in_features=4096, out_features=4096, bias=True)\n",
      "    (4): ReLU(inplace=True)\n",
      "    (5): Dropout(p=0.5, inplace=False)\n",
      "    (6): Linear(in_features=4096, out_features=11, bias=True)\n",
      "  )\n",
      ")\n"
     ]
    }
   ],
   "source": [
    "model_for_11 = './weights/model2.pth'\n",
    "modified_model_CIFAR_10.load_state_dict(torch.load(model_for_11))\n",
    "\n",
    "num_classes = 11;\n",
    "\n",
    "# Change number of classes\n",
    "pretrained_weights_cifar_10 = modified_model_CIFAR_10.vgg16.classifier[6].weight.data.clone()\n",
    "pretrained_bias_cifar_10 = modified_model_CIFAR_10.vgg16.classifier[6].bias.data.clone()\n",
    "\n",
    "modified_model_CIFAR_10.vgg16.classifier[6] = torch.nn.Linear(in_features=4096, out_features=11, bias=True)\n",
    "modified_model_CIFAR_10.vgg16.classifier[6].weight.data = pretrained_weights_cifar_10\n",
    "modified_model_CIFAR_10.vgg16.classifier[6].bias.data = pretrained_bias_cifar_10\n",
    "\n",
    "model_100 = modified_model_CIFAR_10.vgg16\n",
    "print(model_100)\n"
   ]
  },
  {
   "cell_type": "code",
   "execution_count": 38,
   "metadata": {},
   "outputs": [
    {
     "name": "stdout",
     "output_type": "stream",
     "text": [
      "torch.Size([100, 3, 32, 32])\n",
      "[10]\n",
      "torch.Size([100, 3, 32, 32])\n",
      "[10]\n",
      "<torch.utils.data.dataloader.DataLoader object at 0x316ea7910>\n"
     ]
    }
   ],
   "source": [
    "\n",
    "class CustomCIFAR100(Dataset):\n",
    "    def __init__(self, root, transform=None):\n",
    "        self.dataset = datasets.ImageFolder(root, transform)  # \n",
    "        self.labels = []  # \n",
    "\n",
    "    def __len__(self):\n",
    "        return len(self.dataset)\n",
    "\n",
    "    def __getitem__(self, index):\n",
    "        # 获取父类中的数据和标签\n",
    "        image, label = self.dataset[index]\n",
    "\n",
    "        # 如果标签是0（假设0代表自行车类别），则将其改为10\n",
    "        # 否则，保持标签不变\n",
    "        if label == 0:\n",
    "            label = 10\n",
    "        self.labels.append(label)  # 将标签添加到列表中\n",
    "\n",
    "        return image, label\n",
    "\n",
    "\n",
    "train_set_100 = CustomCIFAR100('./CIFAR-100/train', transform_2)\n",
    "\n",
    "train_loader_100 = torch.utils.data.DataLoader(train_set_100, batch_size=100, shuffle=True)\n",
    "for iter, data in enumerate(train_loader_100):\n",
    "    images = data[0]\n",
    "    labels = data[1]\n",
    "    print(images.shape)\n",
    "    print(np.unique(labels))\n",
    "    break\n",
    "\n",
    "for iter, data in enumerate(train_loader_100):\n",
    "    images = data[0]\n",
    "    labels = data[1]\n",
    "    print(images.shape)\n",
    "    print(np.unique(labels))\n",
    "    break\n",
    "print(train_loader_100)"
   ]
  },
  {
   "cell_type": "markdown",
   "metadata": {},
   "source": [
    "# Redefine optimizer"
   ]
  },
  {
   "cell_type": "code",
   "execution_count": 59,
   "metadata": {},
   "outputs": [],
   "source": [
    "criterion = nn.CrossEntropyLoss()\n",
    "optimizer = optim.SGD(modified_model_CIFAR_10.parameters(),lr=0.01,momentum=0.9)"
   ]
  },
  {
   "cell_type": "markdown",
   "metadata": {},
   "source": [
    "# Training the 11 classes model"
   ]
  },
  {
   "cell_type": "code",
   "execution_count": 65,
   "metadata": {},
   "outputs": [
    {
     "name": "stdout",
     "output_type": "stream",
     "text": [
      "  0%|          | 0/2 [00:01<?, ?it/s]"
     ]
    },
    {
     "name": "stderr",
     "output_type": "stream",
     "text": [
      "Traceback (most recent call last):\n",
      "  File \"<string>\", line 1, in <module>\n",
      "  File \"/opt/anaconda3/lib/python3.11/multiprocessing/spawn.py\", line 122, in spawn_main\n",
      "    exitcode = _main(fd, parent_sentinel)\n",
      "               ^^^^^^^^^^^^^^^^^^^^^^^^^^\n",
      "  File \"/opt/anaconda3/lib/python3.11/multiprocessing/spawn.py\", line 132, in _main\n",
      "    self = reduction.pickle.load(from_parent)\n",
      "           ^^^^^^^^^^^^^^^^^^^^^^^^^^^^^^^^^^\n",
      "AttributeError: Can't get attribute 'ModifiedImageFolder' on <module '__main__' (built-in)>\n",
      "Traceback (most recent call last):\n",
      "  File \"<string>\", line 1, in <module>\n",
      "  File \"/opt/anaconda3/lib/python3.11/multiprocessing/spawn.py\", line 122, in spawn_main\n",
      "    exitcode = _main(fd, parent_sentinel)\n",
      "               ^^^^^^^^^^^^^^^^^^^^^^^^^^\n",
      "  File \"/opt/anaconda3/lib/python3.11/multiprocessing/spawn.py\", line 132, in _main\n",
      "    self = reduction.pickle.load(from_parent)\n",
      "           ^^^^^^^^^^^^^^^^^^^^^^^^^^^^^^^^^^\n",
      "AttributeError: Can't get attribute 'ModifiedImageFolder' on <module '__main__' (built-in)>\n"
     ]
    },
    {
     "name": "stdout",
     "output_type": "stream",
     "text": [
      "\n"
     ]
    },
    {
     "ename": "RuntimeError",
     "evalue": "DataLoader worker (pid(s) 64628) exited unexpectedly",
     "output_type": "error",
     "traceback": [
      "\u001b[0;31m---------------------------------------------------------------------------\u001b[0m",
      "\u001b[0;31mRuntimeError\u001b[0m                              Traceback (most recent call last)",
      "File \u001b[0;32m/opt/anaconda3/lib/python3.11/site-packages/torch/utils/data/dataloader.py:1133\u001b[0m, in \u001b[0;36m_MultiProcessingDataLoaderIter._try_get_data\u001b[0;34m(self, timeout)\u001b[0m\n\u001b[1;32m   1132\u001b[0m \u001b[38;5;28;01mtry\u001b[39;00m:\n\u001b[0;32m-> 1133\u001b[0m     data \u001b[38;5;241m=\u001b[39m \u001b[38;5;28mself\u001b[39m\u001b[38;5;241m.\u001b[39m_data_queue\u001b[38;5;241m.\u001b[39mget(timeout\u001b[38;5;241m=\u001b[39mtimeout)\n\u001b[1;32m   1134\u001b[0m     \u001b[38;5;28;01mreturn\u001b[39;00m (\u001b[38;5;28;01mTrue\u001b[39;00m, data)\n",
      "File \u001b[0;32m/opt/anaconda3/lib/python3.11/multiprocessing/queues.py:113\u001b[0m, in \u001b[0;36mQueue.get\u001b[0;34m(self, block, timeout)\u001b[0m\n\u001b[1;32m    112\u001b[0m timeout \u001b[38;5;241m=\u001b[39m deadline \u001b[38;5;241m-\u001b[39m time\u001b[38;5;241m.\u001b[39mmonotonic()\n\u001b[0;32m--> 113\u001b[0m \u001b[38;5;28;01mif\u001b[39;00m \u001b[38;5;129;01mnot\u001b[39;00m \u001b[38;5;28mself\u001b[39m\u001b[38;5;241m.\u001b[39m_poll(timeout):\n\u001b[1;32m    114\u001b[0m     \u001b[38;5;28;01mraise\u001b[39;00m Empty\n",
      "File \u001b[0;32m/opt/anaconda3/lib/python3.11/multiprocessing/connection.py:257\u001b[0m, in \u001b[0;36m_ConnectionBase.poll\u001b[0;34m(self, timeout)\u001b[0m\n\u001b[1;32m    256\u001b[0m \u001b[38;5;28mself\u001b[39m\u001b[38;5;241m.\u001b[39m_check_readable()\n\u001b[0;32m--> 257\u001b[0m \u001b[38;5;28;01mreturn\u001b[39;00m \u001b[38;5;28mself\u001b[39m\u001b[38;5;241m.\u001b[39m_poll(timeout)\n",
      "File \u001b[0;32m/opt/anaconda3/lib/python3.11/multiprocessing/connection.py:440\u001b[0m, in \u001b[0;36mConnection._poll\u001b[0;34m(self, timeout)\u001b[0m\n\u001b[1;32m    439\u001b[0m \u001b[38;5;28;01mdef\u001b[39;00m \u001b[38;5;21m_poll\u001b[39m(\u001b[38;5;28mself\u001b[39m, timeout):\n\u001b[0;32m--> 440\u001b[0m     r \u001b[38;5;241m=\u001b[39m wait([\u001b[38;5;28mself\u001b[39m], timeout)\n\u001b[1;32m    441\u001b[0m     \u001b[38;5;28;01mreturn\u001b[39;00m \u001b[38;5;28mbool\u001b[39m(r)\n",
      "File \u001b[0;32m/opt/anaconda3/lib/python3.11/multiprocessing/connection.py:947\u001b[0m, in \u001b[0;36mwait\u001b[0;34m(object_list, timeout)\u001b[0m\n\u001b[1;32m    946\u001b[0m \u001b[38;5;28;01mwhile\u001b[39;00m \u001b[38;5;28;01mTrue\u001b[39;00m:\n\u001b[0;32m--> 947\u001b[0m     ready \u001b[38;5;241m=\u001b[39m selector\u001b[38;5;241m.\u001b[39mselect(timeout)\n\u001b[1;32m    948\u001b[0m     \u001b[38;5;28;01mif\u001b[39;00m ready:\n",
      "File \u001b[0;32m/opt/anaconda3/lib/python3.11/selectors.py:415\u001b[0m, in \u001b[0;36m_PollLikeSelector.select\u001b[0;34m(self, timeout)\u001b[0m\n\u001b[1;32m    414\u001b[0m \u001b[38;5;28;01mtry\u001b[39;00m:\n\u001b[0;32m--> 415\u001b[0m     fd_event_list \u001b[38;5;241m=\u001b[39m \u001b[38;5;28mself\u001b[39m\u001b[38;5;241m.\u001b[39m_selector\u001b[38;5;241m.\u001b[39mpoll(timeout)\n\u001b[1;32m    416\u001b[0m \u001b[38;5;28;01mexcept\u001b[39;00m \u001b[38;5;167;01mInterruptedError\u001b[39;00m:\n",
      "File \u001b[0;32m/opt/anaconda3/lib/python3.11/site-packages/torch/utils/data/_utils/signal_handling.py:66\u001b[0m, in \u001b[0;36m_set_SIGCHLD_handler.<locals>.handler\u001b[0;34m(signum, frame)\u001b[0m\n\u001b[1;32m     63\u001b[0m \u001b[38;5;28;01mdef\u001b[39;00m \u001b[38;5;21mhandler\u001b[39m(signum, frame):\n\u001b[1;32m     64\u001b[0m     \u001b[38;5;66;03m# This following call uses `waitid` with WNOHANG from C side. Therefore,\u001b[39;00m\n\u001b[1;32m     65\u001b[0m     \u001b[38;5;66;03m# Python can still get and update the process status successfully.\u001b[39;00m\n\u001b[0;32m---> 66\u001b[0m     _error_if_any_worker_fails()\n\u001b[1;32m     67\u001b[0m     \u001b[38;5;28;01mif\u001b[39;00m previous_handler \u001b[38;5;129;01mis\u001b[39;00m \u001b[38;5;129;01mnot\u001b[39;00m \u001b[38;5;28;01mNone\u001b[39;00m:\n",
      "\u001b[0;31mRuntimeError\u001b[0m: DataLoader worker (pid 64628) exited unexpectedly with exit code 1. Details are lost due to multiprocessing. Rerunning with num_workers=0 may give better error trace.",
      "\nThe above exception was the direct cause of the following exception:\n",
      "\u001b[0;31mRuntimeError\u001b[0m                              Traceback (most recent call last)",
      "Cell \u001b[0;32mIn[65], line 14\u001b[0m\n\u001b[1;32m     11\u001b[0m \u001b[38;5;66;03m# Loop over epochs\u001b[39;00m\n\u001b[1;32m     12\u001b[0m \u001b[38;5;28;01mfor\u001b[39;00m epoch \u001b[38;5;129;01min\u001b[39;00m \u001b[38;5;28mrange\u001b[39m(num_epochs):\n\u001b[1;32m     13\u001b[0m     \u001b[38;5;66;03m# Call train_one_epoch function for each epoch\u001b[39;00m\n\u001b[0;32m---> 14\u001b[0m     train_loss \u001b[38;5;241m=\u001b[39m train_one_epoch(modified_model_CIFAR_10, optimizer, train_loader_100, device, epoch)\n\u001b[1;32m     16\u001b[0m     \u001b[38;5;66;03m# Append the training loss to the list\u001b[39;00m\n\u001b[1;32m     17\u001b[0m     train_losses\u001b[38;5;241m.\u001b[39mappend(train_loss)\n",
      "Cell \u001b[0;32mIn[49], line 19\u001b[0m, in \u001b[0;36mtrain_one_epoch\u001b[0;34m(model, optimizer, data_loader, device, epoch)\u001b[0m\n\u001b[1;32m     16\u001b[0m \u001b[38;5;66;03m# Wrap data_loader with tqdm for progress bar\u001b[39;00m\n\u001b[1;32m     17\u001b[0m data_loader \u001b[38;5;241m=\u001b[39m tqdm(data_loader, file\u001b[38;5;241m=\u001b[39msys\u001b[38;5;241m.\u001b[39mstdout)\n\u001b[0;32m---> 19\u001b[0m \u001b[38;5;28;01mfor\u001b[39;00m \u001b[38;5;28miter\u001b[39m, data \u001b[38;5;129;01min\u001b[39;00m \u001b[38;5;28menumerate\u001b[39m(data_loader):\n\u001b[1;32m     21\u001b[0m     inputs, labels \u001b[38;5;241m=\u001b[39m data\n\u001b[1;32m     23\u001b[0m     inputs \u001b[38;5;241m=\u001b[39m data[\u001b[38;5;241m0\u001b[39m]\u001b[38;5;241m.\u001b[39mto(device)\n",
      "File \u001b[0;32m/opt/anaconda3/lib/python3.11/site-packages/tqdm/std.py:1178\u001b[0m, in \u001b[0;36mtqdm.__iter__\u001b[0;34m(self)\u001b[0m\n\u001b[1;32m   1175\u001b[0m time \u001b[38;5;241m=\u001b[39m \u001b[38;5;28mself\u001b[39m\u001b[38;5;241m.\u001b[39m_time\n\u001b[1;32m   1177\u001b[0m \u001b[38;5;28;01mtry\u001b[39;00m:\n\u001b[0;32m-> 1178\u001b[0m     \u001b[38;5;28;01mfor\u001b[39;00m obj \u001b[38;5;129;01min\u001b[39;00m iterable:\n\u001b[1;32m   1179\u001b[0m         \u001b[38;5;28;01myield\u001b[39;00m obj\n\u001b[1;32m   1180\u001b[0m         \u001b[38;5;66;03m# Update and possibly print the progressbar.\u001b[39;00m\n\u001b[1;32m   1181\u001b[0m         \u001b[38;5;66;03m# Note: does not call self.update(1) for speed optimisation.\u001b[39;00m\n",
      "File \u001b[0;32m/opt/anaconda3/lib/python3.11/site-packages/torch/utils/data/dataloader.py:631\u001b[0m, in \u001b[0;36m_BaseDataLoaderIter.__next__\u001b[0;34m(self)\u001b[0m\n\u001b[1;32m    628\u001b[0m \u001b[38;5;28;01mif\u001b[39;00m \u001b[38;5;28mself\u001b[39m\u001b[38;5;241m.\u001b[39m_sampler_iter \u001b[38;5;129;01mis\u001b[39;00m \u001b[38;5;28;01mNone\u001b[39;00m:\n\u001b[1;32m    629\u001b[0m     \u001b[38;5;66;03m# TODO(https://github.com/pytorch/pytorch/issues/76750)\u001b[39;00m\n\u001b[1;32m    630\u001b[0m     \u001b[38;5;28mself\u001b[39m\u001b[38;5;241m.\u001b[39m_reset()  \u001b[38;5;66;03m# type: ignore[call-arg]\u001b[39;00m\n\u001b[0;32m--> 631\u001b[0m data \u001b[38;5;241m=\u001b[39m \u001b[38;5;28mself\u001b[39m\u001b[38;5;241m.\u001b[39m_next_data()\n\u001b[1;32m    632\u001b[0m \u001b[38;5;28mself\u001b[39m\u001b[38;5;241m.\u001b[39m_num_yielded \u001b[38;5;241m+\u001b[39m\u001b[38;5;241m=\u001b[39m \u001b[38;5;241m1\u001b[39m\n\u001b[1;32m    633\u001b[0m \u001b[38;5;28;01mif\u001b[39;00m \u001b[38;5;28mself\u001b[39m\u001b[38;5;241m.\u001b[39m_dataset_kind \u001b[38;5;241m==\u001b[39m _DatasetKind\u001b[38;5;241m.\u001b[39mIterable \u001b[38;5;129;01mand\u001b[39;00m \\\n\u001b[1;32m    634\u001b[0m         \u001b[38;5;28mself\u001b[39m\u001b[38;5;241m.\u001b[39m_IterableDataset_len_called \u001b[38;5;129;01mis\u001b[39;00m \u001b[38;5;129;01mnot\u001b[39;00m \u001b[38;5;28;01mNone\u001b[39;00m \u001b[38;5;129;01mand\u001b[39;00m \\\n\u001b[1;32m    635\u001b[0m         \u001b[38;5;28mself\u001b[39m\u001b[38;5;241m.\u001b[39m_num_yielded \u001b[38;5;241m>\u001b[39m \u001b[38;5;28mself\u001b[39m\u001b[38;5;241m.\u001b[39m_IterableDataset_len_called:\n",
      "File \u001b[0;32m/opt/anaconda3/lib/python3.11/site-packages/torch/utils/data/dataloader.py:1329\u001b[0m, in \u001b[0;36m_MultiProcessingDataLoaderIter._next_data\u001b[0;34m(self)\u001b[0m\n\u001b[1;32m   1326\u001b[0m     \u001b[38;5;28;01mreturn\u001b[39;00m \u001b[38;5;28mself\u001b[39m\u001b[38;5;241m.\u001b[39m_process_data(data)\n\u001b[1;32m   1328\u001b[0m \u001b[38;5;28;01massert\u001b[39;00m \u001b[38;5;129;01mnot\u001b[39;00m \u001b[38;5;28mself\u001b[39m\u001b[38;5;241m.\u001b[39m_shutdown \u001b[38;5;129;01mand\u001b[39;00m \u001b[38;5;28mself\u001b[39m\u001b[38;5;241m.\u001b[39m_tasks_outstanding \u001b[38;5;241m>\u001b[39m \u001b[38;5;241m0\u001b[39m\n\u001b[0;32m-> 1329\u001b[0m idx, data \u001b[38;5;241m=\u001b[39m \u001b[38;5;28mself\u001b[39m\u001b[38;5;241m.\u001b[39m_get_data()\n\u001b[1;32m   1330\u001b[0m \u001b[38;5;28mself\u001b[39m\u001b[38;5;241m.\u001b[39m_tasks_outstanding \u001b[38;5;241m-\u001b[39m\u001b[38;5;241m=\u001b[39m \u001b[38;5;241m1\u001b[39m\n\u001b[1;32m   1331\u001b[0m \u001b[38;5;28;01mif\u001b[39;00m \u001b[38;5;28mself\u001b[39m\u001b[38;5;241m.\u001b[39m_dataset_kind \u001b[38;5;241m==\u001b[39m _DatasetKind\u001b[38;5;241m.\u001b[39mIterable:\n\u001b[1;32m   1332\u001b[0m     \u001b[38;5;66;03m# Check for _IterableDatasetStopIteration\u001b[39;00m\n",
      "File \u001b[0;32m/opt/anaconda3/lib/python3.11/site-packages/torch/utils/data/dataloader.py:1295\u001b[0m, in \u001b[0;36m_MultiProcessingDataLoaderIter._get_data\u001b[0;34m(self)\u001b[0m\n\u001b[1;32m   1291\u001b[0m     \u001b[38;5;66;03m# In this case, `self._data_queue` is a `queue.Queue`,. But we don't\u001b[39;00m\n\u001b[1;32m   1292\u001b[0m     \u001b[38;5;66;03m# need to call `.task_done()` because we don't use `.join()`.\u001b[39;00m\n\u001b[1;32m   1293\u001b[0m \u001b[38;5;28;01melse\u001b[39;00m:\n\u001b[1;32m   1294\u001b[0m     \u001b[38;5;28;01mwhile\u001b[39;00m \u001b[38;5;28;01mTrue\u001b[39;00m:\n\u001b[0;32m-> 1295\u001b[0m         success, data \u001b[38;5;241m=\u001b[39m \u001b[38;5;28mself\u001b[39m\u001b[38;5;241m.\u001b[39m_try_get_data()\n\u001b[1;32m   1296\u001b[0m         \u001b[38;5;28;01mif\u001b[39;00m success:\n\u001b[1;32m   1297\u001b[0m             \u001b[38;5;28;01mreturn\u001b[39;00m data\n",
      "File \u001b[0;32m/opt/anaconda3/lib/python3.11/site-packages/torch/utils/data/dataloader.py:1146\u001b[0m, in \u001b[0;36m_MultiProcessingDataLoaderIter._try_get_data\u001b[0;34m(self, timeout)\u001b[0m\n\u001b[1;32m   1144\u001b[0m \u001b[38;5;28;01mif\u001b[39;00m \u001b[38;5;28mlen\u001b[39m(failed_workers) \u001b[38;5;241m>\u001b[39m \u001b[38;5;241m0\u001b[39m:\n\u001b[1;32m   1145\u001b[0m     pids_str \u001b[38;5;241m=\u001b[39m \u001b[38;5;124m'\u001b[39m\u001b[38;5;124m, \u001b[39m\u001b[38;5;124m'\u001b[39m\u001b[38;5;241m.\u001b[39mjoin(\u001b[38;5;28mstr\u001b[39m(w\u001b[38;5;241m.\u001b[39mpid) \u001b[38;5;28;01mfor\u001b[39;00m w \u001b[38;5;129;01min\u001b[39;00m failed_workers)\n\u001b[0;32m-> 1146\u001b[0m     \u001b[38;5;28;01mraise\u001b[39;00m \u001b[38;5;167;01mRuntimeError\u001b[39;00m(\u001b[38;5;124mf\u001b[39m\u001b[38;5;124m'\u001b[39m\u001b[38;5;124mDataLoader worker (pid(s) \u001b[39m\u001b[38;5;132;01m{\u001b[39;00mpids_str\u001b[38;5;132;01m}\u001b[39;00m\u001b[38;5;124m) exited unexpectedly\u001b[39m\u001b[38;5;124m'\u001b[39m) \u001b[38;5;28;01mfrom\u001b[39;00m \u001b[38;5;21;01me\u001b[39;00m\n\u001b[1;32m   1147\u001b[0m \u001b[38;5;28;01mif\u001b[39;00m \u001b[38;5;28misinstance\u001b[39m(e, queue\u001b[38;5;241m.\u001b[39mEmpty):\n\u001b[1;32m   1148\u001b[0m     \u001b[38;5;28;01mreturn\u001b[39;00m (\u001b[38;5;28;01mFalse\u001b[39;00m, \u001b[38;5;28;01mNone\u001b[39;00m)\n",
      "\u001b[0;31mRuntimeError\u001b[0m: DataLoader worker (pid(s) 64628) exited unexpectedly"
     ]
    }
   ],
   "source": [
    "# Set Seaborn style\n",
    "sns.set(style=\"whitegrid\")\n",
    "\n",
    "# Initialize an empty list to store training losses\n",
    "train_losses = []\n",
    "\n",
    "num_epochs = 20\n",
    "\n",
    "writer = SummaryWriter('./2_1/runs\"')\n",
    "\n",
    "# Loop over epochs\n",
    "for epoch in range(num_epochs):\n",
    "    # Call train_one_epoch function for each epoch\n",
    "    train_loss = train_one_epoch(modified_model_CIFAR_10, optimizer, train_loader_100, device, epoch)\n",
    "    \n",
    "    # Append the training loss to the list\n",
    "    train_losses.append(train_loss)\n",
    "    \n",
    "    print(f\"Epoch {epoch + 1}/{num_epochs}, Train Loss: {train_loss:.5f}\")\n",
    "\n",
    "# Plot the loss curve using Seaborn\n",
    "plt.figure(figsize=(10, 6))\n",
    "sns.lineplot(x=range(1, num_epochs + 1), y=train_losses, marker='o', color='b', label='Train Loss')\n",
    "plt.xlabel('Epoch')\n",
    "plt.ylabel('Loss')\n",
    "plt.title('Training Loss Curve')\n",
    "plt.legend()\n",
    "plt.grid(False)\n",
    "\n",
    "# Save the plot\n",
    "plt.savefig('loss_curve_seaborn.png')\n",
    "\n",
    "# Display the plot\n",
    "plt.show()\n"
   ]
  },
  {
   "cell_type": "markdown",
   "metadata": {},
   "source": [
    "# Save the model"
   ]
  },
  {
   "cell_type": "code",
   "execution_count": 21,
   "metadata": {},
   "outputs": [],
   "source": [
    "PATH='./weights'\n",
    "torch.save(modified_model.state_dict(), f'{PATH}/2-1 11.pth')"
   ]
  },
  {
   "cell_type": "code",
   "execution_count": null,
   "metadata": {},
   "outputs": [],
   "source": []
  },
  {
   "cell_type": "code",
   "execution_count": null,
   "metadata": {},
   "outputs": [],
   "source": []
  },
  {
   "cell_type": "code",
   "execution_count": null,
   "metadata": {},
   "outputs": [],
   "source": []
  }
 ],
 "metadata": {
  "kernelspec": {
   "display_name": "Python 3 (ipykernel)",
   "language": "python",
   "name": "python3"
  },
  "language_info": {
   "codemirror_mode": {
    "name": "ipython",
    "version": 3
   },
   "file_extension": ".py",
   "mimetype": "text/x-python",
   "name": "python",
   "nbconvert_exporter": "python",
   "pygments_lexer": "ipython3",
   "version": "3.11.7"
  }
 },
 "nbformat": 4,
 "nbformat_minor": 4
}
